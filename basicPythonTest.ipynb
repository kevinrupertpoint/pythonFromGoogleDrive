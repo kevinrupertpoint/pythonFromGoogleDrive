{
 "cells": [
  {
   "cell_type": "code",
   "execution_count": 0,
   "metadata": {
    "colab": {},
    "colab_type": "code",
    "id": "JmLqn1iHMOro"
   },
   "outputs": [],
   "source": [
    "#dictionary\n",
    "dic= {}\n",
    "dic['label'] = \"flag\"\n",
    "dic[2] = 'two'\n",
    "print(dic)\n",
    "val = dic.get(\"label\",\"no value is assigned to this index\")\n",
    "print(val)\n",
    "for k,v in dic.items():\n",
    "  print(k, ' : ', v)\n",
    "for i in dic:\n",
    "  print (i)\n",
    "  print(dic[i])\n",
    "#ask whether key is in dictionary\n",
    "print(\"label in dic\")\n",
    "#another way to get value\n",
    "print (dic.get('label'))\n",
    "#no key in the dictionary, return None\n",
    "print(dic. get(3))"
   ]
  },
  {
   "cell_type": "code",
   "execution_count": 0,
   "metadata": {
    "colab": {
     "base_uri": "https://localhost:8080/",
     "height": 104
    },
    "colab_type": "code",
    "id": "7EeLJO7cyUHK",
    "outputId": "e8ccd8e2-5c15-4d09-932c-ef3acffecbea"
   },
   "outputs": [
    {
     "name": "stdout",
     "output_type": "stream",
     "text": [
      "<zip object at 0x7fec40f26a48>\n",
      "[('a', 1), ('b', 2), ('c', 3)]\n",
      "('a', 'b', 'c')\n",
      "(1, 2, 3)\n",
      "3\n"
     ]
    }
   ],
   "source": [
    "#zip demo\n",
    "li1 = ['a','b','c']\n",
    "li2 = [1,2,3]\n",
    "t = zip(li1,li2) #t is just an object \n",
    "print(t)\n",
    "li3 = [pair for pair in t]\n",
    "print(li3)\n",
    "letters,numbers = zip(*li3)\n",
    "print(letters)\n",
    "print(numbers)\n",
    "# * argument unpacking\n",
    "def add(a,b):\n",
    "  return a+b\n",
    "print(add(*[1,2]))"
   ]
  },
  {
   "cell_type": "code",
   "execution_count": 0,
   "metadata": {
    "colab": {},
    "colab_type": "code",
    "id": "saSFXm2URUXd"
   },
   "outputs": [],
   "source": [
    "#use defaultdict\n",
    "from collections import defaultdict\n",
    "word_counts = defaultdict(int) #int() produces 0\n",
    "word_counts['b'] += 1\n",
    "dd = defaultdict(list) #list() produces an empty list\n",
    "dd[2].append(1)\n",
    "dd[2].append('two')\n",
    "dd[3].append(2)\n",
    "print(dd)\n",
    "dd = defaultdict(dict)  #dict() produces an empty dictionary\n",
    "dd['joel']['city'] = 'seattle'\n",
    "print(dd)\n",
    "dd = defaultdict(lambda: [0,0])\n",
    "print(dd[2])\n",
    "print(dd)\n",
    "dd[2][1] = 1 # the default is [0,0],th index 1 change to 1 \n",
    "print(dd) \n",
    "dd[2][1] = 8 # the default is [0,0],th index 1 change to 8\n",
    "print(dd) \n",
    "dd[2][0] = 3 # the default is [0,0],th index 0 change to 3\n",
    "print(dd)\n",
    "dd[2][0] = 5 # the default is [0,0],th index 0 change to 5 \n",
    "print(dd)\n",
    "dd[3][1] = 2\n",
    "print(dd)"
   ]
  },
  {
   "cell_type": "code",
   "execution_count": 0,
   "metadata": {
    "colab": {},
    "colab_type": "code",
    "id": "0VJYfqlOe2Wn"
   },
   "outputs": [],
   "source": [
    "#to transfert the copy of the parameter \n",
    "def func1(a):\n",
    "  a[2] = \"new content\"\n",
    "  return a\n",
    "\n",
    "b = list (range(1,5))\n",
    "d = func1 (b[:]) #b is copied to the function as the parameter\n",
    "print(d)\n",
    "print(b)"
   ]
  },
  {
   "cell_type": "code",
   "execution_count": 1,
   "metadata": {
    "colab": {},
    "colab_type": "code",
    "id": "I2e-vAtHhvlQ"
   },
   "outputs": [
    {
     "name": "stdout",
     "output_type": "stream",
     "text": [
      "(2, 3, 4)\n",
      "2\n",
      "3\n",
      "4\n",
      "(1, 2)\n",
      "1\n",
      "2\n"
     ]
    }
   ],
   "source": [
    "#passing an arbitary number of arguments\n",
    "def func2 (*a):\n",
    "  print(a)\n",
    "  for i in a:\n",
    "    print (i)\n",
    "func2(2,3,4)\n",
    "func2(1,2)"
   ]
  },
  {
   "cell_type": "code",
   "execution_count": 0,
   "metadata": {
    "colab": {
     "base_uri": "https://localhost:8080/",
     "height": 35
    },
    "colab_type": "code",
    "id": "BqdIXTwwjWbm",
    "outputId": "1d128e49-9674-44be-a5eb-1a50d6005178"
   },
   "outputs": [
    {
     "name": "stdout",
     "output_type": "stream",
     "text": [
      "{'c': 'c', 'd': 'd', 'first': 'a', 'last': 'b'}\n"
     ]
    }
   ],
   "source": [
    "#using arbitary keyword arguments\n",
    "def func3 (first, last, **a):\n",
    "  a['first'] = first\n",
    "  a['last'] =  last \n",
    "  return a\n",
    "d = func3('a','b', c='c', d= 'd')\n",
    "print(d)"
   ]
  },
  {
   "cell_type": "code",
   "execution_count": 0,
   "metadata": {
    "colab": {
     "base_uri": "https://localhost:8080/",
     "height": 51
    },
    "colab_type": "code",
    "id": "gvaMdhQ-QGNi",
    "outputId": "eb83cf34-af31-4d11-937b-825513a3b049"
   },
   "outputs": [
    {
     "name": "stdout",
     "output_type": "stream",
     "text": [
      "2\n",
      "6\n"
     ]
    }
   ],
   "source": [
    "#anonymous function lambdas\n",
    "def apply_to_one (f):\n",
    "  \"\"\"f is supposed to be a finction\"\"\"\n",
    "  return f(1)\n",
    "\n",
    "y = apply_to_one (lambda x: x+1)\n",
    "print(y)\n",
    "#high order function\n",
    "def cubefunc (f):\n",
    "  def g(x):\n",
    "    return 2*f(x)\n",
    "  return g\n",
    "t = cubefunc(lambda x:x+1)\n",
    "print (t(2)) #it should be 6"
   ]
  },
  {
   "cell_type": "code",
   "execution_count": 0,
   "metadata": {
    "colab": {},
    "colab_type": "code",
    "id": "KTiczUPZQm-M"
   },
   "outputs": [],
   "source": [
    "dic2= {}\n",
    "dic2['label'] = \"flag\"\n",
    "dic2['two'] = 'two'\n",
    "for name in sorted (dic2.keys()):\n",
    "  print (name.title())\n",
    "  print (name)\n",
    "for name in sorted (dic2.values()):\n",
    "  print (name.title())\n",
    "  print (name)"
   ]
  },
  {
   "cell_type": "code",
   "execution_count": 0,
   "metadata": {
    "colab": {},
    "colab_type": "code",
    "id": "LC3MdtwTRuq8"
   },
   "outputs": [],
   "source": [
    "#form a set from dictionary\n",
    "dic = {\"one\" : 1, \"two\" : 2, \"TWO\" : 2}\n",
    "set1 = set(dic.values())\n",
    "set2 = set(dic.keys())\n",
    "print(set1)\n",
    "print(set2)"
   ]
  },
  {
   "cell_type": "code",
   "execution_count": 0,
   "metadata": {
    "colab": {
     "base_uri": "https://localhost:8080/",
     "height": 87
    },
    "colab_type": "code",
    "id": "u2wFFvFI1bcJ",
    "outputId": "75f808c4-5e4e-432d-b552-359039be432c"
   },
   "outputs": [
    {
     "name": "stdout",
     "output_type": "stream",
     "text": [
      "[('a', 1), ('a', 2), ('a', 3), ('b', 1), ('b', 2), ('b', 3), ('c', 1), ('c', 2), ('c', 3)]\n",
      "[{'a': 1}, {'a': 2}, {'a': 3}, {'b': 1}, {'b': 2}, {'b': 3}, {'c': 1}, {'c': 2}, {'c': 3}]\n",
      "[0, 1, 4, 9, 16]\n",
      "[0, 2, 4, 6, 8, 10, 12, 14, 16, 18]\n"
     ]
    }
   ],
   "source": [
    "#list comprehensions\n",
    "lis1 = ['a','b','c']\n",
    "lis2 = [1,2,3]\n",
    "lis3 = [(x,y)\n",
    "        for x in lis1\n",
    "        for y in lis2]\n",
    "print(lis3)\n",
    "lis4 = [{x:y}\n",
    "        for x in lis1\n",
    "        for y in lis2]\n",
    "print (lis4)\n",
    "lis5 = [ x*x for x in range (5)]\n",
    "print(lis5)\n",
    "tup6 = [x for x in range(20) if x%2 == 0]\n",
    "print(tup6)"
   ]
  },
  {
   "cell_type": "code",
   "execution_count": 0,
   "metadata": {
    "colab": {},
    "colab_type": "code",
    "id": "48EU4YwOTlFo"
   },
   "outputs": [],
   "source": [
    "#nesting in strcuture\n",
    "dic = {'ingredient' : [\"rice\", \"dough\"], 'toppings' : ['pepper', 'cheese']}\n",
    "print (dic)"
   ]
  },
  {
   "cell_type": "code",
   "execution_count": 0,
   "metadata": {
    "colab": {
     "base_uri": "https://localhost:8080/",
     "height": 69
    },
    "colab_type": "code",
    "id": "xw6UvDZ2UiNR",
    "outputId": "b23aecb4-ad42-4f9f-9d4f-95c8e2ae7e35"
   },
   "outputs": [
    {
     "name": "stdout",
     "output_type": "stream",
     "text": [
      "input your age:20\n",
      "20\n"
     ]
    },
    {
     "data": {
      "text/plain": [
       "True"
      ]
     },
     "execution_count": 60,
     "metadata": {
      "tags": []
     },
     "output_type": "execute_result"
    }
   ],
   "source": [
    "#input is treated as the string by default, \n",
    "age = input(\"input your age:\")\n",
    "print (age)\n",
    "#  age > 18  this clause will be wrong\n",
    "i = int(age)\n",
    "i > 18"
   ]
  },
  {
   "cell_type": "code",
   "execution_count": 0,
   "metadata": {
    "colab": {},
    "colab_type": "code",
    "id": "OoRwiP9cWHUw"
   },
   "outputs": [],
   "source": [
    "#while clause\n",
    "animals = ['dog','frog','bear','cat','cat']\n",
    "ani2 = animals.copy()\n",
    "ani3 = animals\n",
    "i = 0\n",
    "while \"cat\" in animals:\n",
    "  animals.remove(\"cat\")\n",
    "  i = i+1\n",
    "print(i)\n",
    "print(ani2)\n",
    "print(ani3)\n"
   ]
  },
  {
   "cell_type": "code",
   "execution_count": 0,
   "metadata": {
    "colab": {},
    "colab_type": "code",
    "id": "RX9rsNKY2bBw"
   },
   "outputs": [],
   "source": [
    "#function simple demo\n",
    "def simple_func(i):\n",
    "  print(i)\n",
    "  return i+1\n",
    "\n",
    "k = simple_func(1)\n",
    "print(k)"
   ]
  },
  {
   "cell_type": "code",
   "execution_count": 0,
   "metadata": {
    "colab": {},
    "colab_type": "code",
    "id": "2a5g85S3wu-0"
   },
   "outputs": [],
   "source": [
    "def simple_func2(arr):\n",
    "  i = len(arr)\n",
    "  print(arr)\n",
    "  j = 0\n",
    "  while j < i:\n",
    "    k = j+1\n",
    "    while k < i:\n",
    "      if arr[k] < arr[j]:\n",
    "        t = arr[j]\n",
    "        arr[j]= arr[k]\n",
    "        arr[k]= t\n",
    "      k = k+1\n",
    "    j = j+1\n",
    "  return arr\n",
    "\n",
    "arr1 = [6,5,4,3,2]\n",
    "arr2 = simple_func2(arr1)\n",
    "print(arr2)"
   ]
  },
  {
   "cell_type": "code",
   "execution_count": 0,
   "metadata": {
    "colab": {},
    "colab_type": "code",
    "id": "JCih9fZ74Q0N"
   },
   "outputs": [],
   "source": [
    "def simple_func3(arr):\n",
    "  i = len(arr)\n",
    "  print(i)\n",
    "  return arr\n",
    "\n",
    "arr1 = [1,2,3]\n",
    "arr2 = simple_func3(arr1)\n",
    "print(arr2)"
   ]
  },
  {
   "cell_type": "code",
   "execution_count": 0,
   "metadata": {
    "colab": {},
    "colab_type": "code",
    "id": "diunRB3Ecx8o"
   },
   "outputs": [],
   "source": [
    "#list demo,   \n",
    "magicians = ['alice', 'david','kevin']\n",
    "for magician in magicians:\n",
    "  str = f\"{magician.title()}, that was a great trick\"\n",
    "  print(str)"
   ]
  },
  {
   "cell_type": "code",
   "execution_count": 0,
   "metadata": {
    "colab": {
     "base_uri": "https://localhost:8080/",
     "height": 272
    },
    "colab_type": "code",
    "id": "dm5VXj2IXcvt",
    "outputId": "d7a0e4ca-c540-4ca6-c45d-a780b9e39939"
   },
   "outputs": [
    {
     "name": "stdout",
     "output_type": "stream",
     "text": [
      "[0, 1, 2, 5, 6, 7, 8]\n",
      "8\n",
      "[0, 1, 2, 5, 6, 7]\n",
      "[2, 5, 6]\n",
      "[2, 5, 6, 7, 8]\n",
      "[0, 1, 2, 5, 6]\n",
      "[0, 9, 2, 5, 6, 7, 8]\n",
      "[0, 9, 2, 5, 6, 7, 100]\n",
      "[0, 9, 2, 6, 7, 100]\n",
      "[0, 2, 6, 7, 9, 100]\n",
      "6\n",
      "[100, 9, 7, 6, 2, 0]\n",
      "[100, 9, 7, 6, 2, 0]\n",
      "[100, 9, 7, 6, 2, 0, 4, 5, 6]\n",
      "[100, 9, 7, 6, 2, 0, 4, 5, 6, 4, 5, 6]\n"
     ]
    }
   ],
   "source": [
    "# list index\n",
    "arr = [0,1,2,5,6,7,8]\n",
    "print(arr)\n",
    "print(arr[-1])\n",
    "print(arr[:-1])\n",
    "print(arr[2:5])\n",
    "print(arr[2:])\n",
    "print(arr[:5])\n",
    "arr[1]=9\n",
    "print(arr)\n",
    "arr.pop()\n",
    "arr.insert(6,100)\n",
    "print(arr)\n",
    "arr.remove(5)\n",
    "print(arr)\n",
    "arr.sort()\n",
    "print(arr)\n",
    "print(len(arr))\n",
    "arr.reverse()\n",
    "print(arr)\n",
    "#copy arr\n",
    "arr1 = arr[:]\n",
    "print(arr1)\n",
    "arr.extend([4,5,6])\n",
    "print(arr)\n",
    "arr2 = arr +[4,5,6]\n",
    "print(arr2)"
   ]
  },
  {
   "cell_type": "code",
   "execution_count": 0,
   "metadata": {
    "colab": {},
    "colab_type": "code",
    "id": "d0N1QJZl88ap"
   },
   "outputs": [],
   "source": [
    "#enumerate demo\n",
    "lis = [17, 20, 55,88]\n",
    "for i, name in enumerate (lis):\n",
    "  print(i, \" value is \", name)\n",
    "#generators wrapped in parentheses\n",
    "#it is only a generator, can not use it directly\n",
    "evensbelow20 = (i for i in range(20) if i%2 == 0)\n",
    "print(evensbelow20)\n",
    "for i in evensbelow20:\n",
    "  print(i)"
   ]
  },
  {
   "cell_type": "code",
   "execution_count": 0,
   "metadata": {
    "colab": {
     "base_uri": "https://localhost:8080/",
     "height": 136
    },
    "colab_type": "code",
    "id": "aMV_gS23B7TL",
    "outputId": "87e647a1-6423-4d7e-e0b6-2088fed5840a"
   },
   "outputs": [
    {
     "name": "stdout",
     "output_type": "stream",
     "text": [
      "3\n",
      "True\n",
      "False\n",
      "8\n",
      "5\n",
      "6\n",
      "7\n"
     ]
    }
   ],
   "source": [
    "#set demo\n",
    "a = set()\n",
    "a.add(2)\n",
    "a.add(8)\n",
    "a.add(9)\n",
    "print(len(a))\n",
    "x = 2 in a\n",
    "print(x)\n",
    "z = 3 in a\n",
    "print(z)\n",
    "b = {5,6,7,8}\n",
    "for i in b:\n",
    "  print(i)"
   ]
  },
  {
   "cell_type": "code",
   "execution_count": 0,
   "metadata": {
    "colab": {},
    "colab_type": "code",
    "id": "4ovgoOjwbEx7"
   },
   "outputs": [],
   "source": [
    "#range function, if else\n",
    "\n",
    "arr = list(range(1,20))\n",
    "print(arr)\n",
    "for i in arr:\n",
    "  if i%2 == 0:\n",
    "    print( f\"{i} is even\" )\n",
    "  else:\n",
    "    print( f\"{i} is odd\")"
   ]
  },
  {
   "cell_type": "code",
   "execution_count": 0,
   "metadata": {
    "colab": {},
    "colab_type": "code",
    "id": "569tHXEvwEeh"
   },
   "outputs": [],
   "source": [
    "# if clause\n",
    "age = 25\n",
    "if age < 6:\n",
    "  print(\"it is free\")\n",
    "elif age < 17:\n",
    "  print(\"pay 1 dollar\")\n",
    "else:\n",
    "  print(\"pay 5 dollar\")\n",
    "alist = list(range(2,8))\n",
    "j  = 7\n",
    "if j in alist:\n",
    "  print(\"Bingo\")\n",
    "else:\n",
    "  print(\"Try again\")"
   ]
  },
  {
   "cell_type": "code",
   "execution_count": 0,
   "metadata": {
    "colab": {
     "base_uri": "https://localhost:8080/",
     "height": 85
    },
    "colab_type": "code",
    "id": "0OwG3gU2-aEz",
    "outputId": "ab1f0bff-0e32-4e72-8672-c7bd47c33119"
   },
   "outputs": [
    {
     "name": "stdout",
     "output_type": "stream",
     "text": [
      "what is your namekevin\n",
      "hello,  kevin\n",
      "How old are you3\n",
      "your age is   3\n"
     ]
    }
   ],
   "source": [
    "person = input('what is your name')\n",
    "print(\"hello, \", person)\n",
    "age = input('How old are you')\n",
    "print(\"your age is  \", age)"
   ]
  },
  {
   "cell_type": "code",
   "execution_count": 0,
   "metadata": {
    "colab": {
     "base_uri": "https://localhost:8080/",
     "height": 34
    },
    "colab_type": "code",
    "id": "Q2GzM_1LovN7",
    "outputId": "5c69005c-5983-44e3-eb4b-10aacd5c4d25"
   },
   "outputs": [
    {
     "name": "stdout",
     "output_type": "stream",
     "text": [
      "kelly\n"
     ]
    }
   ],
   "source": [
    "class Dog:\n",
    "  \"\"\" a simple demo of class definition\"\"\"\n",
    "  def __init__(self,name, age):\n",
    "    self.name = name\n",
    "    self.age = age\n",
    "  def showname(self):\n",
    "    print(self.name)\n",
    "\n",
    "my_dog = Dog(\"kelly\",6)\n",
    "my_dog.showname()"
   ]
  },
  {
   "cell_type": "code",
   "execution_count": 0,
   "metadata": {
    "colab": {},
    "colab_type": "code",
    "id": "SogMpYhQAH1t"
   },
   "outputs": [],
   "source": [
    "x = 11\n",
    "y = 3\n",
    "if x>y:\n",
    "  print(x)\n",
    "else:\n",
    "  print(y)"
   ]
  },
  {
   "cell_type": "code",
   "execution_count": 0,
   "metadata": {
    "colab": {
     "base_uri": "https://localhost:8080/",
     "height": 34
    },
    "colab_type": "code",
    "id": "0n79EuB1EPhG",
    "outputId": "0fb4f206-66b7-43d4-beb1-09f8246d135b"
   },
   "outputs": [
    {
     "name": "stdout",
     "output_type": "stream",
     "text": [
      "AmyAudery\n"
     ]
    }
   ],
   "source": [
    "x= \"Amy\"\n",
    "y = \"Audery\"\n",
    "z = x+y\n",
    "print (z)"
   ]
  },
  {
   "cell_type": "code",
   "execution_count": 0,
   "metadata": {
    "colab": {
     "base_uri": "https://localhost:8080/",
     "height": 85
    },
    "colab_type": "code",
    "id": "vtKp0OIWJFtb",
    "outputId": "2241317d-df44-4be1-f604-999c01de088b"
   },
   "outputs": [
    {
     "name": "stdout",
     "output_type": "stream",
     "text": [
      "hello\n",
      "amy\n",
      "hello\n",
      "amy\n"
     ]
    }
   ],
   "source": [
    "for i in range(10,12):\n",
    "  print (\"hello\")\n",
    "  print(\"amy\")\n"
   ]
  },
  {
   "cell_type": "code",
   "execution_count": 0,
   "metadata": {
    "colab": {},
    "colab_type": "code",
    "id": "1GBbwfbOM7b_"
   },
   "outputs": [],
   "source": [
    "name = input(\"input name: \")\n",
    "if name == 'audrey':\n",
    "  print (name, ' is a princess')\n",
    "elif name == 'sarah':\n",
    "  print (name, \" is my friend\")\n",
    "elif name == 'lucy':\n",
    "  print (name, \" is my cat\")\n",
    "else:\n",
    "  print(\"I do not  know you\")"
   ]
  },
  {
   "cell_type": "code",
   "execution_count": 0,
   "metadata": {
    "colab": {},
    "colab_type": "code",
    "id": "fXTzCyz2ZWtX"
   },
   "outputs": [],
   "source": [
    "for i in range(6,12):\n",
    "  print(i)\n",
    "  j = i*2\n",
    "  print(j)"
   ]
  },
  {
   "cell_type": "code",
   "execution_count": 0,
   "metadata": {
    "colab": {
     "base_uri": "https://localhost:8080/",
     "height": 51
    },
    "colab_type": "code",
    "id": "99BS-rgqPIbV",
    "outputId": "faae7f0f-4391-4ccc-a15a-80ea532a0745"
   },
   "outputs": [
    {
     "name": "stdout",
     "output_type": "stream",
     "text": [
      "please input a number8\n",
      "you input is  8\n"
     ]
    }
   ],
   "source": [
    "i = input(\"please input a number\")\n",
    "print (\"you input is \", i)\n",
    "j = int(i)\n",
    "if j == 1:\n",
    "  print ('today is monday')\n",
    "elif j == 2:\n",
    "  print ('today is tuesday')\n",
    "elif j == 3:\n",
    "  print ('today is wednesday')\n",
    "elif j == 4:\n",
    "  print ('today is thursday')\n",
    "elif j == 5:\n",
    "  print ('today is friday')\n",
    "elif j == 6:\n",
    "  print ('today is saturday')\n",
    "elif j == 7:\n",
    "  print ('today is sunday')"
   ]
  }
 ],
 "metadata": {
  "colab": {
   "collapsed_sections": [],
   "name": "basicPythonTest.ipynb",
   "provenance": []
  },
  "kernelspec": {
   "display_name": "Python 3",
   "language": "python",
   "name": "python3"
  },
  "language_info": {
   "codemirror_mode": {
    "name": "ipython",
    "version": 3
   },
   "file_extension": ".py",
   "mimetype": "text/x-python",
   "name": "python",
   "nbconvert_exporter": "python",
   "pygments_lexer": "ipython3",
   "version": "3.7.3"
  }
 },
 "nbformat": 4,
 "nbformat_minor": 1
}
