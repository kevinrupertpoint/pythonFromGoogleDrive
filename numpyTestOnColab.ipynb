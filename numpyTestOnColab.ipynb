{
  "nbformat": 4,
  "nbformat_minor": 0,
  "metadata": {
    "colab": {
      "name": "numpyTestOnColab.ipynb",
      "provenance": [],
      "include_colab_link": true
    },
    "kernelspec": {
      "name": "python3",
      "display_name": "Python 3"
    }
  },
  "cells": [
    {
      "cell_type": "markdown",
      "metadata": {
        "id": "view-in-github",
        "colab_type": "text"
      },
      "source": [
        "<a href=\"https://colab.research.google.com/github/kevinrupertpoint/pythonFromGoogleDrive/blob/master/numpyTestOnColab.ipynb\" target=\"_parent\"><img src=\"https://colab.research.google.com/assets/colab-badge.svg\" alt=\"Open In Colab\"/></a>"
      ]
    },
    {
      "cell_type": "code",
      "metadata": {
        "id": "VW3eQGzTUYVl",
        "colab_type": "code",
        "outputId": "c087673c-6c8e-43bc-e236-f3ef4e6fed4e",
        "colab": {
          "base_uri": "https://localhost:8080/",
          "height": 68
        }
      },
      "source": [
        "print (\"hello \")\n",
        "i = 2+3\n",
        "print(i)\n",
        "i = 2\n",
        "print(\"me\")"
      ],
      "execution_count": 0,
      "outputs": [
        {
          "output_type": "stream",
          "text": [
            "hello \n",
            "5\n",
            "me\n"
          ],
          "name": "stdout"
        }
      ]
    },
    {
      "cell_type": "code",
      "metadata": {
        "id": "S8HqdrYsp-gv",
        "colab_type": "code",
        "outputId": "eea41e60-ae09-47d3-aa6b-651bdc6df7ae",
        "colab": {
          "base_uri": "https://localhost:8080/",
          "height": 68
        }
      },
      "source": [
        "# Create a 2d array from a list of lists\n",
        "list2 = [[0,1,2], [3,4,5], [6,7,8]]\n",
        "arr2d = np.array(list2)\n",
        "arr2d\n",
        "# Create a float 2d array\n",
        "arr2d_f = np.array(list2, dtype='float')\n",
        "arr2d_f\n",
        "# Convert to int then to str datatype\n",
        "arr2d_f.astype('int').astype('str')"
      ],
      "execution_count": 0,
      "outputs": [
        {
          "output_type": "execute_result",
          "data": {
            "text/plain": [
              "array([['0', '1', '2'],\n",
              "       ['3', '4', '5'],\n",
              "       ['6', '7', '8']], dtype='<U21')"
            ]
          },
          "metadata": {
            "tags": []
          },
          "execution_count": 5
        }
      ]
    },
    {
      "cell_type": "code",
      "metadata": {
        "id": "KRIi4CVnUiO0",
        "colab_type": "code",
        "colab": {}
      },
      "source": [
        "import numpy as np\n",
        "list1 = [0,1,2,3,4]\n",
        "arrld = np.array(list1)\n",
        "print(arrld)\n",
        "print (type(arrld))"
      ],
      "execution_count": 0,
      "outputs": []
    },
    {
      "cell_type": "code",
      "metadata": {
        "id": "4QD7XtgzqKBN",
        "colab_type": "code",
        "outputId": "261f8b00-c85f-4efd-a9e0-68c32eadb6dc",
        "colab": {
          "base_uri": "https://localhost:8080/",
          "height": 34
        }
      },
      "source": [
        "# Create an object array to hold numbers as well as strings\n",
        "arr1d_obj = np.array([1, 'a'], dtype='object')\n",
        "arr1d_obj"
      ],
      "execution_count": 0,
      "outputs": [
        {
          "output_type": "execute_result",
          "data": {
            "text/plain": [
              "array([1, 'a'], dtype=object)"
            ]
          },
          "metadata": {
            "tags": []
          },
          "execution_count": 6
        }
      ]
    },
    {
      "cell_type": "code",
      "metadata": {
        "id": "-hgRdmzJxFim",
        "colab_type": "code",
        "outputId": "1f9b3541-b50f-4cd5-d27c-358d19bfdb32",
        "colab": {
          "base_uri": "https://localhost:8080/",
          "height": 849
        }
      },
      "source": [
        "# Create a 2d array with 3 rows and 4 columns\n",
        "import numpy as np\n",
        "list2 = [[1, 2, 3, 4],[3, 4, 5, 6], [5, 6, 7, 8]]\n",
        "arr2 = np.array(list2, dtype='float')\n",
        "arr2\n",
        "lst1 =arr2.tolist()\n",
        "print(lst1)\n",
        "# shape\n",
        "print('Shape: ', arr2.shape)\n",
        "# dtype\n",
        "print('Datatype: ', arr2.dtype)\n",
        "# size\n",
        "print('Size: ', arr2.size)\n",
        "# ndim\n",
        "print('Num Dimensions: ', arr2.ndim)\n",
        "b = arr2 > 4\n",
        "print(b);\n",
        "#reverse only row position\n",
        "d = arr2 [::-1,]\n",
        "print(d);\n",
        "#reverse both dimensions\n",
        "e = arr2[::-1,::-1]\n",
        "print(e);\n",
        "#insert missing value and indefinite value\n",
        "e[1,2]=np.nan\n",
        "e[1,1]=np.inf\n",
        "print(e)\n",
        "# Replace nan and inf with -1. Don't use arr2 == np.nan\n",
        "missing_bool = np.isnan(e) | np.isinf(e)\n",
        "e[missing_bool] = -1  \n",
        "print(e)\n",
        "# mean, max and min\n",
        "print(\"Mean value is: \", arr2.mean())\n",
        "print(\"Max value is: \", arr2.max())\n",
        "print(\"Min value is: \", arr2.min())\n",
        "# Row wise and column wise min\n",
        "print(arr2)\n",
        "print(\"Column wise minimum: \", np.amin(arr2, axis=0))\n",
        "print(\"Row wise minimum: \", np.amin(arr2, axis=1))\n",
        "# Cumulative Sum\n",
        "g = np.cumsum(arr2)\n",
        "print(g)\n",
        "# Convert to 'int' datatype\n",
        "print(\"convert to integer\")\n",
        "arr2.astype('int')\n",
        "print(arr2)# Create a boolean array\n",
        "arr2d_b = np.array([1, 0, 10], dtype='bool')\n",
        "print(arr2d_b)\n",
        "# Create an object array to hold numbers as well as strings\n",
        "arr1d_obj = np.array([1, 'a'], dtype='object')\n",
        "print(arr1d_obj)\n",
        "# Reshape a 3x4 array to 4x3 array\n",
        "print(\"reshape demo\")\n",
        "arr3  = arr2\n",
        "#reshape does not change the shape of arr3\n",
        "arr4 = arr3.reshape(4, 3)\n",
        "print(arr2)\n",
        "print(arr3)\n",
        "print(arr4)\n",
        "print(arr3.shape)\n",
        "print(arr4.shape)"
      ],
      "execution_count": 0,
      "outputs": [
        {
          "output_type": "stream",
          "text": [
            "[[1.0, 2.0, 3.0, 4.0], [3.0, 4.0, 5.0, 6.0], [5.0, 6.0, 7.0, 8.0]]\n",
            "Shape:  (3, 4)\n",
            "Datatype:  float64\n",
            "Size:  12\n",
            "Num Dimensions:  2\n",
            "[[False False False False]\n",
            " [False False  True  True]\n",
            " [ True  True  True  True]]\n",
            "[[5. 6. 7. 8.]\n",
            " [3. 4. 5. 6.]\n",
            " [1. 2. 3. 4.]]\n",
            "[[8. 7. 6. 5.]\n",
            " [6. 5. 4. 3.]\n",
            " [4. 3. 2. 1.]]\n",
            "[[ 8.  7.  6.  5.]\n",
            " [ 6. inf nan  3.]\n",
            " [ 4.  3.  2.  1.]]\n",
            "[[ 8.  7.  6.  5.]\n",
            " [ 6. -1. -1.  3.]\n",
            " [ 4.  3.  2.  1.]]\n",
            "Mean value is:  3.5833333333333335\n",
            "Max value is:  8.0\n",
            "Min value is:  -1.0\n",
            "[[ 1.  2.  3.  4.]\n",
            " [ 3. -1. -1.  6.]\n",
            " [ 5.  6.  7.  8.]]\n",
            "Column wise minimum:  [ 1. -1. -1.  4.]\n",
            "Row wise minimum:  [ 1. -1.  5.]\n",
            "[ 1.  3.  6. 10. 13. 12. 11. 17. 22. 28. 35. 43.]\n",
            "convert to integer\n",
            "[[ 1.  2.  3.  4.]\n",
            " [ 3. -1. -1.  6.]\n",
            " [ 5.  6.  7.  8.]]\n",
            "[ True False  True]\n",
            "[1 'a']\n",
            "reshape demo\n",
            "[[ 1.  2.  3.  4.]\n",
            " [ 3. -1. -1.  6.]\n",
            " [ 5.  6.  7.  8.]]\n",
            "[[ 1.  2.  3.  4.]\n",
            " [ 3. -1. -1.  6.]\n",
            " [ 5.  6.  7.  8.]]\n",
            "[[ 1.  2.  3.]\n",
            " [ 4.  3. -1.]\n",
            " [-1.  6.  5.]\n",
            " [ 6.  7.  8.]]\n",
            "(3, 4)\n",
            "(4, 3)\n"
          ],
          "name": "stdout"
        }
      ]
    },
    {
      "cell_type": "code",
      "metadata": {
        "id": "_ZWuAZB_9TB0",
        "colab_type": "code",
        "outputId": "6656e74d-0318-4198-a5d0-12a1117f0600",
        "colab": {
          "base_uri": "https://localhost:8080/",
          "height": 208
        }
      },
      "source": [
        "# Create a 2d array with 3 rows and 4 columns\n",
        "import numpy as np\n",
        "list2 = [[1, 2, 3, 4],[3, 4, 5, 6], [5, 6, 7, 8]]\n",
        "arr2 = np.array(list2, dtype='int')\n",
        "print(arr2)\n",
        "# Changing the flattened array does not change parent\n",
        "b1 = arr2.flatten()  \n",
        "b1[0] = 100  # changing b1 does not affect arr2\n",
        "print(arr2)\n",
        "print(b1)\n",
        "# Changing the raveled array changes the parent also.\n",
        "b2 = arr2.ravel()  \n",
        "b2[0] = 101  # changing b2 changes arr2 also\n",
        "print(arr2)\n",
        "print(b2)"
      ],
      "execution_count": 0,
      "outputs": [
        {
          "output_type": "stream",
          "text": [
            "[[1 2 3 4]\n",
            " [3 4 5 6]\n",
            " [5 6 7 8]]\n",
            "[[1 2 3 4]\n",
            " [3 4 5 6]\n",
            " [5 6 7 8]]\n",
            "[100   2   3   4   3   4   5   6   5   6   7   8]\n",
            "[[101   2   3   4]\n",
            " [  3   4   5   6]\n",
            " [  5   6   7   8]]\n",
            "[101   2   3   4   3   4   5   6   5   6   7   8]\n"
          ],
          "name": "stdout"
        }
      ]
    }
  ]
}